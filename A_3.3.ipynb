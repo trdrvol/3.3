{
 "cells": [
  {
   "cell_type": "code",
   "execution_count": null,
   "metadata": {},
   "outputs": [],
   "source": [
    "\"\"\"\n",
    "Implement a function longestWord() that takes list of words and returns the longest one.\n",
    "\"\"\""
   ]
  },
  {
   "cell_type": "code",
   "execution_count": 2,
   "metadata": {},
   "outputs": [
    {
     "name": "stdout",
     "output_type": "stream",
     "text": [
      "Manu1111111111\n"
     ]
    }
   ],
   "source": [
    "def longestWord(list):\n",
    "    num=0\n",
    "    longest_word=\"\"\n",
    "    for word in list:\n",
    "        if len(word) > num:\n",
    "            num=len(word)\n",
    "            longest_word= word\n",
    "    return longest_word\n",
    "print(longestWord([\"Gaurav\",\"Manu1111111111\",\"Harry\"]))"
   ]
  }
 ],
 "metadata": {
  "kernelspec": {
   "display_name": "Python 3",
   "language": "python",
   "name": "python3"
  },
  "language_info": {
   "codemirror_mode": {
    "name": "ipython",
    "version": 3
   },
   "file_extension": ".py",
   "mimetype": "text/x-python",
   "name": "python",
   "nbconvert_exporter": "python",
   "pygments_lexer": "ipython3",
   "version": "3.6.4"
  }
 },
 "nbformat": 4,
 "nbformat_minor": 2
}
